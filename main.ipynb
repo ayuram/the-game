{
 "cells": [
  {
   "cell_type": "markdown",
   "metadata": {},
   "source": [
    "# The Game\n",
    "\n",
    "There are `p` systems with `k` unique numbers each from 0 $\\ldots$ `n`. The goal is to find a dropping strategy for each system that efficiently sorts the numbers in ascending order."
   ]
  },
  {
   "cell_type": "code",
   "execution_count": null,
   "metadata": {},
   "outputs": [],
   "source": [
    "from typing import Optional\n",
    "from threading import Lock, Thread\n",
    "import random\n",
    "\n",
    "class Player:\n",
    "    def __init__(self, name: str):\n",
    "        self.name = name\n",
    "    def init(self, cards, lock: Lock, queue):\n",
    "        self.cards = sorted(cards)\n",
    "        self.lock = lock\n",
    "        self.queue = queue\n",
    "    def run(self):\n",
    "        while self.cards:\n",
    "            self.update()\n",
    "    def dropCard(self):\n",
    "        self.lock.acquire()\n",
    "        self.queue.append(self.cards.pop(0))\n",
    "        self.lock.release()\n",
    "    def update(self):\n",
    "        pass\n",
    "\n",
    "class TheGame:\n",
    "    def __init__(self, n, k, players: list[Player]):\n",
    "        self.lock = Lock()\n",
    "        self.deck = [i for i in range(n)]\n",
    "        random.shuffle(self.deck)\n",
    "        self.queue = []\n",
    "        # for each player, draw k random cards from the deck\n",
    "        self.players = players\n",
    "        for p in self.players:\n",
    "            p.init([self.deck.pop() for _ in range(k)], self.lock, self.queue)\n",
    "    def run(self):\n",
    "        expected = sorted([card for player in self.players for card in player.cards])\n",
    "        print(expected)\n",
    "        threads = [Thread(target=player.run) for player in self.players]\n",
    "        for t in threads:\n",
    "            t.start()\n",
    "        for t in threads:\n",
    "            t.join()\n",
    "        print(self.queue)\n",
    "        return expected, self.queue\n"
   ]
  },
  {
   "cell_type": "markdown",
   "metadata": {},
   "source": [
    "## Lazy Sorting\n",
    "\n",
    "Every system just waits the number of iterations on their card to drop it"
   ]
  },
  {
   "cell_type": "code",
   "execution_count": 1,
   "metadata": {},
   "outputs": [
    {
     "ename": "NameError",
     "evalue": "name 'Player' is not defined",
     "output_type": "error",
     "traceback": [
      "\u001b[0;31m---------------------------------------------------------------------------\u001b[0m",
      "\u001b[0;31mNameError\u001b[0m                                 Traceback (most recent call last)",
      "Cell \u001b[0;32mIn[1], line 3\u001b[0m\n\u001b[1;32m      1\u001b[0m \u001b[38;5;28;01mimport\u001b[39;00m \u001b[38;5;21;01mtime\u001b[39;00m\n\u001b[0;32m----> 3\u001b[0m \u001b[38;5;28;01mclass\u001b[39;00m \u001b[38;5;21;01mLazyPlayer\u001b[39;00m(\u001b[43mPlayer\u001b[49m):\n\u001b[1;32m      4\u001b[0m     \u001b[38;5;28;01mdef\u001b[39;00m \u001b[38;5;21minit\u001b[39m(\u001b[38;5;28mself\u001b[39m, cards: \u001b[38;5;28mlist\u001b[39m, lock: Lock, queue):\n\u001b[1;32m      5\u001b[0m         \u001b[38;5;28msuper\u001b[39m()\u001b[38;5;241m.\u001b[39minit(cards, lock, queue)\n",
      "\u001b[0;31mNameError\u001b[0m: name 'Player' is not defined"
     ]
    }
   ],
   "source": [
    "import time\n",
    "\n",
    "class LazyPlayer(Player):\n",
    "    def init(self, cards: list, lock: Lock, queue):\n",
    "        super().init(cards, lock, queue)\n",
    "        self.iters = 0\n",
    "    def update(self):\n",
    "        lowest = self.cards[0]\n",
    "        if self.iters >= lowest:\n",
    "            self.dropCard()\n",
    "        time.sleep(0.01)\n",
    "        self.iters += 1"
   ]
  },
  {
   "cell_type": "markdown",
   "metadata": {},
   "source": [
    "### Testing"
   ]
  },
  {
   "cell_type": "code",
   "execution_count": null,
   "metadata": {},
   "outputs": [],
   "source": [
    "game = TheGame(10**2, 2, [LazyPlayer(f\"Player {i}\") for i in range(5)])\n",
    "expected, returned = game.run()"
   ]
  },
  {
   "cell_type": "code",
   "execution_count": null,
   "metadata": {},
   "outputs": [],
   "source": [
    "from matplotlib import pyplot as plt\n",
    "plt.plot(expected, label='expected')\n",
    "plt.plot(returned, label='returned')\n",
    "plt.legend()\n",
    "plt.show()"
   ]
  }
 ],
 "metadata": {
  "kernelspec": {
   "display_name": "base",
   "language": "python",
   "name": "python3"
  },
  "language_info": {
   "codemirror_mode": {
    "name": "ipython",
    "version": 3
   },
   "file_extension": ".py",
   "mimetype": "text/x-python",
   "name": "python",
   "nbconvert_exporter": "python",
   "pygments_lexer": "ipython3",
   "version": "3.10.9"
  }
 },
 "nbformat": 4,
 "nbformat_minor": 2
}
